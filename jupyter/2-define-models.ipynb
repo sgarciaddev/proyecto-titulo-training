{
 "cells": [
  {
   "cell_type": "code",
   "execution_count": null,
   "id": "initial_id",
   "metadata": {
    "collapsed": true
   },
   "outputs": [],
   "source": [
    ""
   ]
  },
  {
   "metadata": {},
   "cell_type": "code",
   "outputs": [],
   "execution_count": null,
   "source": [
    "# Importar las librerías necesarias\n",
    "import pandas as pd\n",
    "import numpy as np\n",
    "\n",
    "# Librerías para preprocesamiento y modelado\n",
    "from sklearn.model_selection import train_test_split\n",
    "from sklearn.preprocessing import LabelEncoder, StandardScaler\n",
    "from sklearn.metrics import classification_report, confusion_matrix\n",
    "\n",
    "# Modelos de aprendizaje automático\n",
    "from sklearn.ensemble import RandomForestClassifier\n",
    "import xgboost as xgb\n",
    "\n",
    "# Modelos de aprendizaje profundo\n",
    "from tensorflow.keras.models import Sequential\n",
    "from tensorflow.keras.layers import Dense, LSTM\n",
    "from tensorflow.keras.utils import to_categorical\n",
    "\n",
    "# Configurar el entorno para evitar advertencias innecesarias\n",
    "import warnings\n",
    "warnings.filterwarnings('ignore')\n"
   ],
   "id": "1d100649cdc576aa"
  },
  {
   "metadata": {},
   "cell_type": "code",
   "outputs": [],
   "execution_count": null,
   "source": [
    "cic_data = [] # Datasets\n",
    "\n",
    "cic_data\n"
   ],
   "id": "4628cc2e59dbe67d"
  },
  {
   "metadata": {},
   "cell_type": "code",
   "outputs": [],
   "execution_count": null,
   "source": [
    "# Cargar datos benignos y maliciosos de la cámara Danmini Doorbell\n",
    "benign_data = pd.read_csv('benign_data.csv')\n",
    "malicious_data = pd.read_csv('malicious_data.csv')\n",
    "\n",
    "# Agregar una columna para etiquetar los datos\n",
    "benign_data['Class'] = 'Benign'\n",
    "malicious_data['Class'] = 'Malicious'\n",
    "\n",
    "# Combinar los datos benignos y maliciosos\n",
    "nbaiot_data = pd.concat([benign_data, malicious_data], ignore_index=True)\n",
    "\n",
    "# Mostrar las primeras filas del conjunto de datos\n",
    "print(\"\\nPrimeras filas de N-BaIoT:\")\n",
    "print(nbaiot_data.head())\n"
   ],
   "id": "1b58f3fee1c78e7c"
  },
  {
   "metadata": {},
   "cell_type": "code",
   "outputs": [],
   "execution_count": null,
   "source": [
    "# Verificar valores faltantes en CIC-DDoS2019\n",
    "print(\"\\nValores faltantes en CIC-DDoS2019:\")\n",
    "print(cic_data.isnull().sum())\n",
    "\n",
    "# Eliminar filas con valores faltantes\n",
    "cic_data.dropna(inplace=True)\n",
    "\n",
    "# Verificar valores faltantes en N-BaIoT\n",
    "print(\"\\nValores faltantes en N-BaIoT:\")\n",
    "print(nbaiot_data.isnull().sum())\n",
    "\n",
    "# Eliminar filas con valores faltantes\n",
    "nbaiot_data.dropna(inplace=True)\n"
   ],
   "id": "265b2be17927d16f"
  },
  {
   "metadata": {},
   "cell_type": "code",
   "outputs": [],
   "execution_count": null,
   "source": [
    "# Crear un objeto LabelEncoder\n",
    "label_encoder = LabelEncoder()\n",
    "\n",
    "# Codificar las etiquetas en CIC-DDoS2019\n",
    "cic_data['Label'] = label_encoder.fit_transform(cic_data['Label'])\n",
    "\n",
    "# Codificar las etiquetas en N-BaIoT\n",
    "nbaiot_data['Class'] = label_encoder.fit_transform(nbaiot_data['Class'])\n"
   ],
   "id": "58f51080a43412ab"
  },
  {
   "metadata": {},
   "cell_type": "code",
   "outputs": [],
   "execution_count": null,
   "source": [
    "# Eliminar columnas no relevantes en CIC-DDoS2019\n",
    "columns_to_drop_cic = ['Flow ID', ' Source IP', ' Destination IP', ' Timestamp']\n",
    "cic_data.drop(columns=columns_to_drop_cic, inplace=True, errors='ignore')\n",
    "\n",
    "# Si hay columnas irrelevantes en N-BaIoT, eliminarlas (ajustar según corresponda)\n",
    "# columns_to_drop_nbaiot = ['ColumnaIrrelevante1', 'ColumnaIrrelevante2']\n",
    "# nbaiot_data.drop(columns=columns_to_drop_nbaiot, inplace=True)\n"
   ],
   "id": "c4e278e21889b442"
  },
  {
   "metadata": {},
   "cell_type": "code",
   "outputs": [],
   "execution_count": null,
   "source": [
    "# Separar características y etiquetas en CIC-DDoS2019\n",
    "cic_features = cic_data.drop('Label', axis=1)\n",
    "cic_labels = cic_data['Label']\n",
    "\n",
    "# Separar características y etiquetas en N-BaIoT\n",
    "nbaiot_features = nbaiot_data.drop('Class', axis=1)\n",
    "nbaiot_labels = nbaiot_data['Class']\n",
    "\n",
    "# Escalar las características utilizando StandardScaler\n",
    "scaler_cic = StandardScaler()\n",
    "cic_features_scaled = scaler_cic.fit_transform(cic_features)\n",
    "\n",
    "scaler_nbaiot = StandardScaler()\n",
    "nbaiot_features_scaled = scaler_nbaiot.fit_transform(nbaiot_features)\n"
   ],
   "id": "deabb2cd6360cac0"
  },
  {
   "metadata": {},
   "cell_type": "code",
   "outputs": [],
   "execution_count": null,
   "source": [
    "# Distribución de clases en CIC-DDoS2019\n",
    "print(\"\\nDistribución de clases en CIC-DDoS2019:\")\n",
    "print(cic_labels.value_counts())\n",
    "\n",
    "# Distribución de clases en N-BaIoT\n",
    "print(\"\\nDistribución de clases en N-BaIoT:\")\n",
    "print(nbaiot_labels.value_counts())\n"
   ],
   "id": "bd4975884a9466e5"
  },
  {
   "metadata": {},
   "cell_type": "code",
   "outputs": [],
   "execution_count": null,
   "source": [
    "# División en conjuntos de entrenamiento y prueba para CIC-DDoS2019\n",
    "cic_X_train, cic_X_test, cic_y_train, cic_y_test = train_test_split(\n",
    "        cic_features_scaled, cic_labels, test_size=0.2, random_state=42, stratify=cic_labels)\n",
    "\n",
    "# División en conjuntos de entrenamiento y prueba para N-BaIoT\n",
    "nbaiot_X_train, nbaiot_X_test, nbaiot_y_train, nbaiot_y_test = train_test_split(\n",
    "        nbaiot_features_scaled, nbaiot_labels, test_size=0.2, random_state=42, stratify=nbaiot_labels)\n"
   ],
   "id": "e230de9f31711ad0"
  },
  {
   "metadata": {},
   "cell_type": "code",
   "outputs": [],
   "execution_count": null,
   "source": [
    "# Modelo Random Forest para CIC-DDoS2019\n",
    "rf_model_cic = RandomForestClassifier(n_estimators=100, random_state=42)\n",
    "rf_model_cic.fit(cic_X_train, cic_y_train)\n",
    "\n",
    "# Modelo Random Forest para N-BaIoT\n",
    "rf_model_nbaiot = RandomForestClassifier(n_estimators=100, random_state=42)\n",
    "rf_model_nbaiot.fit(nbaiot_X_train, nbaiot_y_train)\n"
   ],
   "id": "151ca366f051aec8"
  },
  {
   "metadata": {},
   "cell_type": "code",
   "outputs": [],
   "execution_count": null,
   "source": [
    "# Predicciones y evaluación para CIC-DDoS2019\n",
    "cic_y_pred_rf = rf_model_cic.predict(cic_X_test)\n",
    "print(\"\\nReporte de clasificación para Random Forest en CIC-DDoS2019:\")\n",
    "print(classification_report(cic_y_test, cic_y_pred_rf))\n",
    "\n",
    "# Predicciones y evaluación para N-BaIoT\n",
    "nbaiot_y_pred_rf = rf_model_nbaiot.predict(nbaiot_X_test)\n",
    "print(\"\\nReporte de clasificación para Random Forest en N-BaIoT:\")\n",
    "print(classification_report(nbaiot_y_test, nbaiot_y_pred_rf))\n"
   ],
   "id": "ce851ae671e121b1"
  },
  {
   "metadata": {},
   "cell_type": "code",
   "outputs": [],
   "execution_count": null,
   "source": [
    "# Modelo XGBoost para CIC-DDoS2019\n",
    "xgb_model_cic = xgb.XGBClassifier(use_label_encoder=False, eval_metric='mlogloss', random_state=42)\n",
    "xgb_model_cic.fit(cic_X_train, cic_y_train)\n",
    "\n",
    "# Modelo XGBoost para N-BaIoT\n",
    "xgb_model_nbaiot = xgb.XGBClassifier(use_label_encoder=False, eval_metric='mlogloss', random_state=42)\n",
    "xgb_model_nbaiot.fit(nbaiot_X_train, nbaiot_y_train)\n"
   ],
   "id": "3609efe33ac65c2f"
  },
  {
   "metadata": {},
   "cell_type": "code",
   "outputs": [],
   "execution_count": null,
   "source": [
    "# Predicciones y evaluación para CIC-DDoS2019\n",
    "cic_y_pred_xgb = xgb_model_cic.predict(cic_X_test)\n",
    "print(\"\\nReporte de clasificación para XGBoost en CIC-DDoS2019:\")\n",
    "print(classification_report(cic_y_test, cic_y_pred_xgb))\n",
    "\n",
    "# Predicciones y evaluación para N-BaIoT\n",
    "nbaiot_y_pred_xgb = xgb_model_nbaiot.predict(nbaiot_X_test)\n",
    "print(\"\\nReporte de clasificación para XGBoost en N-BaIoT:\")\n",
    "print(classification_report(nbaiot_y_test, nbaiot_y_pred_xgb))\n"
   ],
   "id": "b8714ba5e05993d1"
  },
  {
   "metadata": {},
   "cell_type": "code",
   "outputs": [],
   "execution_count": null,
   "source": [
    "# Redimensionar los datos para que sean compatibles con LSTM\n",
    "# Añadir una dimensión temporal (timesteps = 1)\n",
    "\n",
    "# Para CIC-DDoS2019\n",
    "cic_X_train_lstm = cic_X_train.reshape((cic_X_train.shape[0], 1, cic_X_train.shape[1]))\n",
    "cic_X_test_lstm = cic_X_test.reshape((cic_X_test.shape[0], 1, cic_X_test.shape[1]))\n",
    "\n",
    "# Para N-BaIoT\n",
    "nbaiot_X_train_lstm = nbaiot_X_train.reshape((nbaiot_X_train.shape[0], 1, nbaiot_X_train.shape[1]))\n",
    "nbaiot_X_test_lstm = nbaiot_X_test.reshape((nbaiot_X_test.shape[0], 1, nbaiot_X_test.shape[1]))\n"
   ],
   "id": "deb4176af131d294"
  },
  {
   "metadata": {},
   "cell_type": "code",
   "outputs": [],
   "execution_count": null,
   "source": [
    "# Convertir etiquetas a formato categórico (one-hot encoding)\n",
    "\n",
    "# Para CIC-DDoS2019\n",
    "num_classes_cic = len(np.unique(cic_y_train))\n",
    "cic_y_train_cat = to_categorical(cic_y_train, num_classes=num_classes_cic)\n",
    "cic_y_test_cat = to_categorical(cic_y_test, num_classes=num_classes_cic)\n",
    "\n",
    "# Para N-BaIoT\n",
    "num_classes_nbaiot = len(np.unique(nbaiot_y_train))\n",
    "nbaiot_y_train_cat = to_categorical(nbaiot_y_train, num_classes=num_classes_nbaiot)\n",
    "nbaiot_y_test_cat = to_categorical(nbaiot_y_test, num_classes=num_classes_nbaiot)\n"
   ],
   "id": "56baf3861f011f3a"
  },
  {
   "metadata": {},
   "cell_type": "code",
   "outputs": [],
   "execution_count": null,
   "source": [
    "# Modelo LSTM para CIC-DDoS2019\n",
    "model_cic = Sequential()\n",
    "model_cic.add(LSTM(64, input_shape=(cic_X_train_lstm.shape[1], cic_X_train_lstm.shape[2])))\n",
    "model_cic.add(Dense(num_classes_cic, activation='softmax'))\n",
    "\n",
    "# Compilar el modelo\n",
    "model_cic.compile(loss='categorical_crossentropy', optimizer='adam', metrics=['accuracy'])\n",
    "\n",
    "# Entrenar el modelo\n",
    "print(\"\\nEntrenando modelo LSTM para CIC-DDoS2019...\")\n",
    "model_cic.fit(cic_X_train_lstm, cic_y_train_cat, epochs=5, batch_size=64, validation_data=(cic_X_test_lstm, cic_y_test_cat))\n",
    "\n",
    "# Modelo LSTM para N-BaIoT\n",
    "model_nbaiot = Sequential()\n",
    "model_nbaiot.add(LSTM(64, input_shape=(nbaiot_X_train_lstm.shape[1], nbaiot_X_train_lstm.shape[2])))\n",
    "model_nbaiot.add(Dense(num_classes_nbaiot, activation='softmax'))\n",
    "\n",
    "# Compilar el modelo\n",
    "model_nbaiot.compile(loss='categorical_crossentropy', optimizer='adam', metrics=['accuracy'])\n",
    "\n",
    "# Entrenar el modelo\n",
    "print(\"\\nEntrenando modelo LSTM para N-BaIoT...\")\n",
    "model_nbaiot.fit(nbaiot_X_train_lstm, nbaiot_y_train_cat, epochs=5, batch_size=64, validation_data=(nbaiot_X_test_lstm, nbaiot_y_test_cat))\n"
   ],
   "id": "3fc9f0e76d263cef"
  },
  {
   "metadata": {},
   "cell_type": "code",
   "outputs": [],
   "execution_count": null,
   "source": [
    "# Evaluación para CIC-DDoS2019\n",
    "print(\"\\nEvaluando modelo LSTM para CIC-DDoS2019...\")\n",
    "cic_y_pred_lstm = model_cic.predict(cic_X_test_lstm)\n",
    "cic_y_pred_lstm_classes = np.argmax(cic_y_pred_lstm, axis=1)\n",
    "\n",
    "print(\"\\nReporte de clasificación para LSTM en CIC-DDoS2019:\")\n",
    "print(classification_report(cic_y_test, cic_y_pred_lstm_classes))\n",
    "\n",
    "# Evaluación para N-BaIoT\n",
    "print(\"\\nEvaluando modelo LSTM para N-BaIoT...\")\n",
    "nbaiot_y_pred_lstm = model_nbaiot.predict(nbaiot_X_test_lstm)\n",
    "nbaiot_y_pred_lstm_classes = np.argmax(nbaiot_y_pred_lstm, axis=1)\n",
    "\n",
    "print(\"\\nReporte de clasificación para LSTM en N-BaIoT:\")\n",
    "print(classification_report(nbaiot_y_test, nbaiot_y_pred_lstm_classes))\n"
   ],
   "id": "931bf89605abc483"
  },
  {
   "metadata": {},
   "cell_type": "code",
   "outputs": [],
   "execution_count": null,
   "source": [
    "# Aquí puedes comparar las métricas obtenidas por cada modelo en ambos conjuntos de datos\n",
    "# Por ejemplo, podrías crear un DataFrame con las precisiones de cada modelo\n",
    "\n",
    "# Suponiendo que ya has almacenado las métricas relevantes\n",
    "results = {\n",
    "    'Modelo': ['Random Forest', 'XGBoost', 'LSTM'],\n",
    "    'CIC-DDoS2019 Accuracy': [\n",
    "        rf_model_cic.score(cic_X_test, cic_y_test),\n",
    "        xgb_model_cic.score(cic_X_test, cic_y_test),\n",
    "        model_cic.evaluate(cic_X_test_lstm, cic_y_test_cat, verbose=0)[1]\n",
    "    ],\n",
    "    'N-BaIoT Accuracy': [\n",
    "        rf_model_nbaiot.score(nbaiot_X_test, nbaiot_y_test),\n",
    "        xgb_model_nbaiot.score(nbaiot_X_test, nbaiot_y_test),\n",
    "        model_nbaiot.evaluate(nbaiot_X_test_lstm, nbaiot_y_test_cat, verbose=0)[1]\n",
    "    ]\n",
    "}\n",
    "\n",
    "results_df = pd.DataFrame(results)\n",
    "print(\"\\nComparación de precisiones entre modelos y conjuntos de datos:\")\n",
    "print(results_df)\n"
   ],
   "id": "b834dce2eeb6b725"
  }
 ],
 "metadata": {
  "kernelspec": {
   "display_name": "Python 3",
   "language": "python",
   "name": "python3"
  },
  "language_info": {
   "codemirror_mode": {
    "name": "ipython",
    "version": 2
   },
   "file_extension": ".py",
   "mimetype": "text/x-python",
   "name": "python",
   "nbconvert_exporter": "python",
   "pygments_lexer": "ipython2",
   "version": "2.7.6"
  }
 },
 "nbformat": 4,
 "nbformat_minor": 5
}
