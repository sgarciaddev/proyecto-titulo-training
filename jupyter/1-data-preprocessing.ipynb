{
 "cells": [
  {
   "cell_type": "code",
   "id": "initial_id",
   "metadata": {
    "collapsed": true,
    "ExecuteTime": {
     "end_time": "2024-11-08T02:13:13.702132Z",
     "start_time": "2024-11-08T02:13:13.672128Z"
    }
   },
   "source": [
    "from ddosmllib.data import get_dataset_df\n",
    "from pandas import concat as df_concat"
   ],
   "outputs": [],
   "execution_count": 12
  },
  {
   "metadata": {},
   "cell_type": "markdown",
   "source": "## Dataset N-BaIoT",
   "id": "f352861905114322"
  },
  {
   "metadata": {},
   "cell_type": "markdown",
   "source": "### Benign",
   "id": "7d1901053335f264"
  },
  {
   "metadata": {
    "ExecuteTime": {
     "end_time": "2024-11-08T02:13:34.372795Z",
     "start_time": "2024-11-08T02:13:13.738347Z"
    }
   },
   "cell_type": "code",
   "source": [
    "nbaiot_benign_dfs = []\n",
    "\n",
    "for i in range(1, 10):\n",
    "    _df = get_dataset_df('nbaiot', f'{i}.benign')\n",
    "    _df['malign'] = False\n",
    "    _df['classification'] = 'benign'\n",
    "    _df['botnet'] = None\n",
    "    nbaiot_benign_dfs.append(_df)\n",
    "    \n",
    "compiled_nbaiot_benign_df = df_concat(nbaiot_benign_dfs, ignore_index=True)\n",
    "compiled_nbaiot_benign_df.shape\n"
   ],
   "id": "ff2a2c74a26efc08",
   "outputs": [
    {
     "data": {
      "text/plain": [
       "(555932, 118)"
      ]
     },
     "execution_count": 13,
     "metadata": {},
     "output_type": "execute_result"
    }
   ],
   "execution_count": 13
  },
  {
   "metadata": {
    "ExecuteTime": {
     "end_time": "2024-11-08T02:16:34.772223Z",
     "start_time": "2024-11-08T02:13:34.603151Z"
    }
   },
   "cell_type": "code",
   "source": [
    "nbaiot_malign_dfs = []\n",
    "nbaiot_botnets = ['mirai', 'gafgyt']\n",
    "nbaiot_protocols = ['scan', 'tcp', 'udp', 'ack', 'combo']\n",
    "\n",
    "for i in range(1, 10):\n",
    "    for botnet in nbaiot_botnets:\n",
    "        for protocol in nbaiot_protocols:\n",
    "            try:\n",
    "                _df = get_dataset_df('nbaiot', f'{i}.{botnet}.{protocol}')\n",
    "            except FileNotFoundError as e:\n",
    "                print(e)\n",
    "            else:\n",
    "                _df['malign'] = True\n",
    "                _df['classification'] = protocol\n",
    "                _df['botnet'] = botnet\n",
    "                nbaiot_malign_dfs.append(_df)\n",
    "\n",
    "compiled_nbaiot_malign_df = df_concat(nbaiot_malign_dfs, ignore_index=True)\n",
    "compiled_nbaiot_malign_df.shape"
   ],
   "id": "1ca1100bc75f342",
   "outputs": [
    {
     "name": "stdout",
     "output_type": "stream",
     "text": [
      "Dataset `1.mirai.tcp` from `nbaiot` not found\n",
      "Dataset `1.mirai.combo` from `nbaiot` not found\n",
      "Dataset `1.gafgyt.ack` from `nbaiot` not found\n",
      "Dataset `2.mirai.tcp` from `nbaiot` not found\n",
      "Dataset `2.mirai.combo` from `nbaiot` not found\n",
      "Dataset `2.gafgyt.ack` from `nbaiot` not found\n",
      "Dataset `3.mirai.scan` from `nbaiot` not found\n",
      "Dataset `3.mirai.tcp` from `nbaiot` not found\n",
      "Dataset `3.mirai.udp` from `nbaiot` not found\n",
      "Dataset `3.mirai.ack` from `nbaiot` not found\n",
      "Dataset `3.mirai.combo` from `nbaiot` not found\n",
      "Dataset `3.gafgyt.ack` from `nbaiot` not found\n",
      "Dataset `4.mirai.tcp` from `nbaiot` not found\n",
      "Dataset `4.mirai.combo` from `nbaiot` not found\n",
      "Dataset `4.gafgyt.ack` from `nbaiot` not found\n",
      "Dataset `5.mirai.tcp` from `nbaiot` not found\n",
      "Dataset `5.mirai.combo` from `nbaiot` not found\n",
      "Dataset `5.gafgyt.ack` from `nbaiot` not found\n",
      "Dataset `6.mirai.tcp` from `nbaiot` not found\n",
      "Dataset `6.mirai.combo` from `nbaiot` not found\n",
      "Dataset `6.gafgyt.ack` from `nbaiot` not found\n",
      "Dataset `7.mirai.scan` from `nbaiot` not found\n",
      "Dataset `7.mirai.tcp` from `nbaiot` not found\n",
      "Dataset `7.mirai.udp` from `nbaiot` not found\n",
      "Dataset `7.mirai.ack` from `nbaiot` not found\n",
      "Dataset `7.mirai.combo` from `nbaiot` not found\n",
      "Dataset `7.gafgyt.ack` from `nbaiot` not found\n",
      "Dataset `8.mirai.tcp` from `nbaiot` not found\n",
      "Dataset `8.mirai.combo` from `nbaiot` not found\n",
      "Dataset `8.gafgyt.ack` from `nbaiot` not found\n",
      "Dataset `9.mirai.tcp` from `nbaiot` not found\n",
      "Dataset `9.mirai.combo` from `nbaiot` not found\n",
      "Dataset `9.gafgyt.ack` from `nbaiot` not found\n"
     ]
    },
    {
     "data": {
      "text/plain": [
       "(4988282, 118)"
      ]
     },
     "execution_count": 14,
     "metadata": {},
     "output_type": "execute_result"
    }
   ],
   "execution_count": 14
  },
  {
   "metadata": {
    "ExecuteTime": {
     "end_time": "2024-11-08T02:16:35.523382Z",
     "start_time": "2024-11-08T02:16:35.515522Z"
    }
   },
   "cell_type": "code",
   "source": "",
   "id": "928970f19195a2a2",
   "outputs": [],
   "execution_count": null
  }
 ],
 "metadata": {
  "kernelspec": {
   "display_name": "Python 3",
   "language": "python",
   "name": "python3"
  },
  "language_info": {
   "codemirror_mode": {
    "name": "ipython",
    "version": 2
   },
   "file_extension": ".py",
   "mimetype": "text/x-python",
   "name": "python",
   "nbconvert_exporter": "python",
   "pygments_lexer": "ipython2",
   "version": "2.7.6"
  }
 },
 "nbformat": 4,
 "nbformat_minor": 5
}
