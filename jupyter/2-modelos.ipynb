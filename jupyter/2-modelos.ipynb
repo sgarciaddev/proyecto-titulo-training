{
 "cells": [
  {
   "metadata": {},
   "cell_type": "markdown",
   "source": [
    "# Proyecto - Deteccion y mitigacion de ataques DDoS en redes IoT/Cloud usando ML/DL\n",
    "\n",
    "## Paso 2. Entrenamiento de modelos\n",
    "\n",
    "Una vez tenemos los datos preprocesados y listos para usarse, se procede con\n",
    "el entrenamiento de los modelos de Machine y Deep learning propuestos.\n",
    "\n",
    "---"
   ],
   "id": "a7757caee28761c4"
  },
  {
   "metadata": {},
   "cell_type": "markdown",
   "source": "### Importar librerias necesarias",
   "id": "eca7a305c2755ae9"
  },
  {
   "metadata": {
    "jupyter": {
     "is_executing": true
    }
   },
   "cell_type": "code",
   "source": [
    "import pandas as pd\n",
    "import numpy as np\n",
    "\n",
    "from ddosmllib.data import get_dataset_df, DatasetProyecto\n",
    "from dotenv import load_dotenv\n",
    "from os.path import join as pjoin\n",
    "from os import getenv\n",
    "\n",
    "from joblib import dump as model_save\n",
    "from sklearn.pipeline import Pipeline\n",
    "from imblearn.pipeline import Pipeline as ImbPipeline\n",
    "from sklearn.ensemble import RandomForestClassifier\n",
    "from sklearn.model_selection import train_test_split, GridSearchCV\n",
    "from imblearn.over_sampling import SMOTE\n",
    "from sklearn.metrics import (classification_report, confusion_matrix,\n",
    "                            roc_auc_score, f1_score, make_scorer)\n",
    "from tensorflow.keras.models import Sequential\n",
    "from tensorflow.keras.layers import Dense, LSTM\n",
    "from tensorflow.keras.utils import to_categorical\n",
    "\n",
    "# Cargamos la variable de entorno para guardar los modelos entrenados. Si no\n",
    "# existe, se lanza una excepción.\n",
    "load_dotenv('../.env')\n",
    "if not getenv('TRAINED_MODELS_PATH'):\n",
    "    raise RuntimeError('Environment variable TRAINED_MODELS_PATH not defined')\n",
    "\n",
    "rnd_state: int = 36  # Se define semilla para reproducibilidad"
   ],
   "id": "5f2fe784d6371423",
   "outputs": [],
   "execution_count": null
  },
  {
   "metadata": {},
   "cell_type": "markdown",
   "source": "### Entrenamiento con CIC DDoS 2019",
   "id": "6ba4b86abe06de5f"
  },
  {
   "metadata": {},
   "cell_type": "markdown",
   "source": [
    "Primero cargamos los datos y establecemos las características y etiqueta.\n",
    "Luego, dividimos los datos en conjuntos de entrenamiento y prueba usando la\n",
    "funcion `train_test_split` de `sklearn`."
   ],
   "id": "94a35524832dade5"
  },
  {
   "metadata": {
    "collapsed": true
   },
   "cell_type": "code",
   "source": [
    "# Obtenemos el DataFrame del dataset CIC DDoS 2019\n",
    "df = get_dataset_df(DatasetProyecto.CIC_DDoS2019)\n",
    "\n",
    "# Definimos las características y la etiqueta\n",
    "X = df.drop(['Label_encoded'], axis=1)\n",
    "y = df['Label_encoded']\n",
    "\n",
    "# Subdividimos el conjunto de datos en entrenamiento y prueba\n",
    "X_train, X_test, y_train, y_test = train_test_split(\n",
    "        X, y,\n",
    "        test_size=0.25,\n",
    "        random_state=rnd_state,\n",
    "        stratify=y\n",
    ")\n",
    "\n",
    "print(f'X_train shape: {X_train.shape}')\n",
    "print(f'X_test shape: {X_test.shape}')\n",
    "print(f'y_train shape: {y_train.shape}')\n",
    "print(f'y_test shape: {y_test.shape}')"
   ],
   "id": "initial_id",
   "outputs": [],
   "execution_count": null
  },
  {
   "metadata": {},
   "cell_type": "code",
   "source": [
    "# Se guardan los datos de testing en un archivo\n",
    "df_test = pd.DataFrame(X_test)\n",
    "df_test['Label_encoded'] = y_test\n",
    "df_test.to_parquet(pjoin(getenv('TRAINED_MODELS_PATH'), 'CICDDOS2019-test.parquet'))"
   ],
   "id": "f191af02488b7a3b",
   "outputs": [],
   "execution_count": null
  },
  {
   "metadata": {},
   "cell_type": "markdown",
   "source": [
    "#### Random Forest\n",
    "\n",
    "Primero cargamos los datos y establecemos las características y etiqueta.\n",
    "Luego, dividimos los datos en conjuntos de entrenamiento y prueba usando la\n",
    "funcion `train_test_split` de `sklearn`. Posteriormente, creamos un pipeline\n",
    "para aplicar la tecnica de sobremuestreo SMOTE y entrenamos un modelo de\n",
    "Random Forest. La tecnica es utilzada para balancear las clases del conjunto,\n",
    " ya que el conjunto de datos CIC DDoS 2019 posee muchas más instancias de\n",
    " datos malignos que benignos."
   ],
   "id": "366cfc202ac3ca33"
  },
  {
   "metadata": {},
   "cell_type": "code",
   "source": [
    "clf = RandomForestClassifier(\n",
    "        n_estimators=100,\n",
    "        random_state=rnd_state,\n",
    "        class_weight='balanced'\n",
    ")\n",
    "\n",
    "smote = SMOTE(random_state=rnd_state)\n",
    "\n",
    "pipeline = ImbPipeline([\n",
    "    ('smote', smote),\n",
    "    ('classifier', clf)\n",
    "])\n",
    "\n",
    "# Optimización de hiperparámetros\n",
    "param_grid = {\n",
    "    'classifier__n_estimators': [10, 100],\n",
    "    'classifier__max_depth': [None, 10, 20],\n",
    "    'classifier__min_samples_split': [2, 5],\n",
    "    'classifier__min_samples_leaf': [1, 2],\n",
    "    'classifier__bootstrap': [True]\n",
    "}\n",
    "\n",
    "scorer = make_scorer(f1_score, average='macro')\n",
    "\n",
    "grid_search = GridSearchCV(\n",
    "        estimator=pipeline,\n",
    "        param_grid=param_grid,\n",
    "        cv=3,\n",
    "        n_jobs=-1,\n",
    "        verbose=2,\n",
    "        scoring='f1_macro',\n",
    ")\n",
    "\n",
    "grid_search.fit(X_train, y_train)\n",
    "print(grid_search.best_params_)"
   ],
   "id": "b4eb11a77430826a",
   "outputs": [],
   "execution_count": null
  },
  {
   "metadata": {
    "jupyter": {
     "is_executing": true
    }
   },
   "cell_type": "code",
   "source": [
    "# Evaluar el mejor modelo\n",
    "best_clf = grid_search.best_estimator_\n",
    "y_pred_best = best_clf.predict(X_test)\n",
    "print(confusion_matrix(y_test, y_pred_best))\n",
    "print(classification_report(y_test, y_pred_best))"
   ],
   "id": "be5c937a49ee365",
   "outputs": [],
   "execution_count": null
  },
  {
   "metadata": {},
   "cell_type": "code",
   "source": [
    "best_clf.fit(X_train, y_train)\n",
    "\n",
    "y_pred = best_clf.predict(X_test)\n",
    "y_proba = best_clf.predict_proba(X_test)"
   ],
   "id": "812d4268a9d07066",
   "outputs": [],
   "execution_count": null
  },
  {
   "metadata": {},
   "cell_type": "code",
   "source": [
    "print(\"Matriz de Confusión:\")\n",
    "print(confusion_matrix(y_test, y_pred))\n",
    "\n",
    "print(\"\\nReporte de Clasificación:\")\n",
    "print(classification_report(y_test, y_pred))\n",
    "\n",
    "print(\"ROC AUC:\", roc_auc_score(y_test, y_proba))\n",
    "print(\"F1-Score:\", f1_score(y_test, y_pred))"
   ],
   "id": "203ecabdb4ed7950",
   "outputs": [],
   "execution_count": null
  },
  {
   "metadata": {},
   "cell_type": "markdown",
   "source": [
    "Y con las métricas de rendimiento, se guarda el modelo para su posterior uso\n",
    "en el backend"
   ],
   "id": "adb724f92e693f6a"
  },
  {
   "metadata": {},
   "cell_type": "code",
   "source": [
    "# Se guarda el modelo en un archivo\n",
    "model_save(pipeline, pjoin(getenv('TRAINED_MODELS_PATH'), 'CICDDOS2019-RF.joblib'))"
   ],
   "id": "2641a9725df6dc9e",
   "outputs": [],
   "execution_count": null
  },
  {
   "metadata": {},
   "cell_type": "markdown",
   "source": [
    "#### LSTM\n",
    "\n",
    "Primero se realiza una transformación de los datos para que puedan ser\n",
    "utilizados en el modelo LSTM. Luego, se define el modelo y se entrena, para\n",
    "guardarlo posteriormente y mostrar las métricas de rendimiento."
   ],
   "id": "e136681bb708827e"
  },
  {
   "metadata": {},
   "cell_type": "code",
   "source": [
    "X_train_lstm = X_train.reshape((X_train.shape[0], 1, X_train.shape[1]))\n",
    "X_test_lstm = X_test.reshape((X_train.shape[0], 1, X_train.shape[1]))\n",
    "\n",
    "num_classes = len(np.unique(y_train))\n",
    "y_train_cat = to_categorical(y_train, num_classes=num_classes)\n",
    "y_test_cat = to_categorical(y_test, num_classes=num_classes)\n"
   ],
   "id": "13ddfe22dfcd273",
   "outputs": [],
   "execution_count": null
  },
  {
   "metadata": {},
   "cell_type": "code",
   "source": [
    "# Se define el modelo LSTM\n",
    "model_cic = Sequential()\n",
    "model_cic.add(LSTM(64, input_shape=(\n",
    "    X_train_lstm.shape[1], X_train_lstm.shape[2])))\n",
    "model_cic.add(Dense(num_classes, activation='softmax'))\n",
    "\n",
    "# Se compila el modelo\n",
    "model_cic.compile(loss='categorical_crossentropy', optimizer='adam',\n",
    "                  metrics=['accuracy'])\n",
    "\n",
    "# Se entrena el modelo\n",
    "print(\"\\nEntrenando modelo LSTM para CIC-DDoS2019...\")\n",
    "model_cic.fit(X_train_lstm, y_train_cat, epochs=5, batch_size=64,\n",
    "              validation_data=(X_test_lstm, y_test_cat))\n",
    "\n",
    "model_cic.save(pjoin(getenv('TRAINED_MODELS_PATH'), 'CICDDOS2019-LSTM.h5'))"
   ],
   "id": "b5f302c27de5aa77",
   "outputs": [],
   "execution_count": null
  },
  {
   "metadata": {},
   "cell_type": "markdown",
   "source": "Con el modelo entrenado, se obtienen las métricas de rendimiento.",
   "id": "e4547a187b3bce12"
  },
  {
   "metadata": {},
   "cell_type": "code",
   "source": [
    "# Evaluación para CIC-DDoS2019\n",
    "print(\"\\nEvaluando modelo LSTM para CIC-DDoS2019...\")\n",
    "y_pred_lstm = model_cic.predict(X_test_lstm)\n",
    "y_pred_lstm_classes = np.argmax(y_pred_lstm, axis=1)\n",
    "\n",
    "print(\"\\nReporte de clasificación para LSTM en CIC-DDoS2019:\")\n",
    "print(classification_report(y_test, y_pred_lstm_classes))"
   ],
   "id": "9ccc010b79a6494b",
   "outputs": [],
   "execution_count": null
  },
  {
   "metadata": {},
   "cell_type": "markdown",
   "source": "### Entrenamiento con N-BaIoT",
   "id": "d2c5f24180dd9779"
  },
  {
   "metadata": {},
   "cell_type": "markdown",
   "source": [
    "Primero cargamos los datos y establecemos las características y etiqueta.\n",
    "Luego, dividimos los datos en conjuntos de entrenamiento y prueba usando la\n",
    "funcion `train_test_split` de `sklearn`."
   ],
   "id": "43cc6904ecf6c985"
  },
  {
   "metadata": {
    "collapsed": true
   },
   "cell_type": "code",
   "source": [
    "# Obtenemos el DataFrame del dataset N-BaIoT. Obtenemos un sample de 200000\n",
    "df = get_dataset_df(DatasetProyecto.N_BaIoT_XGB)\n",
    "df = df.sample(200000, random_state=rnd_state)\n",
    "\n",
    "# Definimos las características y la etiqueta\n",
    "X = df.drop(['malign'], axis=1)\n",
    "y = df['malign']\n",
    "\n",
    "# Subdividimos el conjunto de datos en entrenamiento y prueba\n",
    "X_train, X_test, y_train, y_test = train_test_split(\n",
    "        X, y,\n",
    "        test_size=0.25,\n",
    "        random_state=rnd_state,\n",
    "        stratify=y\n",
    ")\n",
    "\n",
    "print(f'X_train shape: {X_train.shape}')\n",
    "print(f'X_test shape: {X_test.shape}')\n",
    "print(f'y_train shape: {y_train.shape}')\n",
    "print(f'y_test shape: {y_test.shape}')"
   ],
   "id": "5601b666b3331337",
   "outputs": [],
   "execution_count": null
  },
  {
   "metadata": {},
   "cell_type": "code",
   "source": [
    "# Se guardan los datos de testing en un archivo\n",
    "df_test = pd.DataFrame(X_test)\n",
    "df_test['malign'] = y_test\n",
    "df_test.to_parquet(pjoin(getenv('TRAINED_MODELS_PATH'), 'NBaIoT-test.parquet'))"
   ],
   "id": "5ffa0645619dc0",
   "outputs": [],
   "execution_count": null
  },
  {
   "metadata": {},
   "cell_type": "markdown",
   "source": [
    "#### Random Forest\n",
    "\n",
    "Primero cargamos los datos y establecemos las características y etiqueta.\n",
    "Luego, dividimos los datos en conjuntos de entrenamiento y prueba usando la\n",
    "funcion `train_test_split` de `sklearn`. Posteriormente, creamos un pipeline\n",
    "para aplicar la tecnica de sobremuestreo SMOTE y entrenamos un modelo de\n",
    "Random Forest. La tecnica es utilzada para balancear las clases del conjunto,\n",
    " ya que el conjunto de datos CIC DDoS 2019 posee muchas más instancias de\n",
    " datos malignos que benignos."
   ],
   "id": "95574e8530e9bd59"
  },
  {
   "metadata": {},
   "cell_type": "code",
   "outputs": [],
   "execution_count": null,
   "source": [
    "clf = RandomForestClassifier(\n",
    "        n_estimators=100,\n",
    "        random_state=rnd_state,\n",
    "        class_weight='balanced'\n",
    ")\n",
    "\n",
    "smote = SMOTE(random_state=rnd_state)\n",
    "\n",
    "pipeline = ImbPipeline([\n",
    "    ('smote', smote),\n",
    "    ('classifier', clf)\n",
    "])\n",
    "\n",
    "# Optimización de hiperparámetros\n",
    "param_grid = {\n",
    "    'classifier__n_estimators': [10, 100],\n",
    "    'classifier__max_depth': [None, 10, 20],\n",
    "    'classifier__min_samples_split': [2, 5],\n",
    "    'classifier__min_samples_leaf': [1, 2],\n",
    "    'classifier__bootstrap': [True]\n",
    "}\n",
    "\n",
    "scorer = make_scorer(f1_score, average='macro')\n",
    "\n",
    "grid_search = GridSearchCV(\n",
    "        estimator=pipeline,\n",
    "        param_grid=param_grid,\n",
    "        cv=3,\n",
    "        n_jobs=-1,\n",
    "        verbose=2,\n",
    "        scoring='f1_macro',\n",
    ")\n",
    "\n",
    "grid_search.fit(X_train, y_train)\n",
    "print(grid_search.best_params_)"
   ],
   "id": "50eb23a3a7df573c"
  },
  {
   "metadata": {
    "jupyter": {
     "is_executing": true
    }
   },
   "cell_type": "code",
   "outputs": [],
   "execution_count": null,
   "source": [
    "# Evaluar el mejor modelo\n",
    "best_clf = grid_search.best_estimator_\n",
    "y_pred_best = best_clf.predict(X_test)\n",
    "print(confusion_matrix(y_test, y_pred_best))\n",
    "print(classification_report(y_test, y_pred_best))"
   ],
   "id": "6e644fa72fd49bde"
  },
  {
   "metadata": {},
   "cell_type": "code",
   "outputs": [],
   "execution_count": null,
   "source": [
    "best_clf.fit(X_train, y_train)\n",
    "\n",
    "y_pred = best_clf.predict(X_test)\n",
    "y_proba = best_clf.predict_proba(X_test)"
   ],
   "id": "c552c9ce1da81ea8"
  },
  {
   "metadata": {},
   "cell_type": "code",
   "outputs": [],
   "execution_count": null,
   "source": [
    "print(\"Matriz de Confusión:\")\n",
    "print(confusion_matrix(y_test, y_pred))\n",
    "\n",
    "print(\"\\nReporte de Clasificación:\")\n",
    "print(classification_report(y_test, y_pred))\n",
    "\n",
    "print(\"ROC AUC:\", roc_auc_score(y_test, y_proba))\n",
    "print(\"F1-Score:\", f1_score(y_test, y_pred))"
   ],
   "id": "22189f743a628168"
  },
  {
   "metadata": {},
   "cell_type": "markdown",
   "source": [
    "Y con las métricas de rendimiento, se guarda el modelo para su posterior uso\n",
    "en el backend"
   ],
   "id": "24ec0e8898cc3fa1"
  },
  {
   "metadata": {},
   "cell_type": "code",
   "outputs": [],
   "execution_count": null,
   "source": [
    "# Se guarda el modelo en un archivo\n",
    "model_save(pipeline, pjoin(getenv('TRAINED_MODELS_PATH'), 'NBAIOT-RF.joblib'))"
   ],
   "id": "2c878cfe6a8af854"
  },
  {
   "metadata": {},
   "cell_type": "markdown",
   "source": [
    "#### LSTM\n",
    "\n",
    "Primero se realiza una transformación de los datos para que puedan ser\n",
    "utilizados en el modelo LSTM. Luego, se define el modelo y se entrena, para\n",
    "guardarlo posteriormente y mostrar las métricas de rendimiento."
   ],
   "id": "d266666893741b90"
  },
  {
   "metadata": {},
   "cell_type": "code",
   "source": [
    "X_train_lstm = X_train.reshape((X_train.shape[0], 1, X_train.shape[1]))\n",
    "X_test_lstm = X_test.reshape((X_train.shape[0], 1, X_train.shape[1]))\n",
    "\n",
    "num_classes = len(np.unique(y_train))\n",
    "y_train_cat = to_categorical(y_train, num_classes=num_classes)\n",
    "y_test_cat = to_categorical(y_test, num_classes=num_classes)\n"
   ],
   "id": "1feac8962881889c",
   "outputs": [],
   "execution_count": null
  },
  {
   "metadata": {},
   "cell_type": "code",
   "source": [
    "# Se define el modelo LSTM\n",
    "model_nbaiot = Sequential()\n",
    "model_nbaiot.add(LSTM(64, input_shape=(\n",
    "    X_train_lstm.shape[1], X_train_lstm.shape[2])))\n",
    "model_nbaiot.add(Dense(num_classes, activation='softmax'))\n",
    "\n",
    "# Se compila el modelo\n",
    "model_nbaiot.compile(loss='categorical_crossentropy', optimizer='adam',\n",
    "                  metrics=['accuracy'])\n",
    "\n",
    "# Se entrena el modelo\n",
    "print(\"\\nEntrenando modelo LSTM para N-BaIoT...\")\n",
    "model_nbaiot.fit(X_train_lstm, y_train_cat, epochs=5, batch_size=64,\n",
    "              validation_data=(X_test_lstm, y_test_cat))\n",
    "\n",
    "model_nbaiot.save(pjoin(getenv('TRAINED_MODELS_PATH'), 'NBAIOT-LSTM.h5'))"
   ],
   "id": "78b94c293222eb5f",
   "outputs": [],
   "execution_count": null
  },
  {
   "metadata": {},
   "cell_type": "markdown",
   "source": "Con el modelo entrenado, se obtienen las métricas de rendimiento.",
   "id": "55975f340fc330a6"
  },
  {
   "metadata": {},
   "cell_type": "code",
   "source": [
    "# Evaluación para N-BaIoT\n",
    "print(\"\\nEvaluando modelo LSTM para N-BaIoT...\")\n",
    "y_pred_lstm = model_nbaiot.predict(X_test_lstm)\n",
    "y_pred_lstm_classes = np.argmax(y_pred_lstm, axis=1)\n",
    "\n",
    "print(\"\\nReporte de clasificación para LSTM en N-BaIoT:\")\n",
    "print(classification_report(y_test, y_pred_lstm_classes))"
   ],
   "id": "c6e73536303518fb",
   "outputs": [],
   "execution_count": null
  }
 ],
 "metadata": {
  "kernelspec": {
   "display_name": "Python 3",
   "language": "python",
   "name": "python3"
  },
  "language_info": {
   "codemirror_mode": {
    "name": "ipython",
    "version": 2
   },
   "file_extension": ".py",
   "mimetype": "text/x-python",
   "name": "python",
   "nbconvert_exporter": "python",
   "pygments_lexer": "ipython2",
   "version": "2.7.6"
  }
 },
 "nbformat": 4,
 "nbformat_minor": 5
}
